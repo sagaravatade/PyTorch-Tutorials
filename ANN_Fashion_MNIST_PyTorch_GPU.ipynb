{
  "nbformat": 4,
  "nbformat_minor": 0,
  "metadata": {
    "colab": {
      "provenance": [],
      "gpuType": "T4",
      "authorship_tag": "ABX9TyOPVgbmCrRO8/AoigsdHyro",
      "include_colab_link": true
    },
    "kernelspec": {
      "name": "python3",
      "display_name": "Python 3"
    },
    "language_info": {
      "name": "python"
    },
    "accelerator": "GPU"
  },
  "cells": [
    {
      "cell_type": "markdown",
      "metadata": {
        "id": "view-in-github",
        "colab_type": "text"
      },
      "source": [
        "<a href=\"https://colab.research.google.com/github/sagaravatade/PyTorch-Tutorials/blob/main/ANN_Fashion_MNIST_PyTorch_GPU.ipynb\" target=\"_parent\"><img src=\"https://colab.research.google.com/assets/colab-badge.svg\" alt=\"Open In Colab\"/></a>"
      ]
    },
    {
      "cell_type": "code",
      "source": [
        "import pandas as pd\n",
        "from sklearn.model_selection import train_test_split\n",
        "import pandas as pd\n",
        "from sklearn.model_selection import train_test_split\n",
        "import torch\n",
        "from torch.utils.data import Dataset, DataLoader\n",
        "import torch.nn as nn\n",
        "import torch.optim as optim\n",
        "import matplotlib.pyplot as plt"
      ],
      "metadata": {
        "id": "m1lxceZUd315"
      },
      "execution_count": null,
      "outputs": []
    },
    {
      "cell_type": "code",
      "source": [
        "# Set random seeds for reproducibility\n",
        "torch.manual_seed(42)"
      ],
      "metadata": {
        "colab": {
          "base_uri": "https://localhost:8080/"
        },
        "id": "QTq_nLAVlkt6",
        "outputId": "78018ef5-8af2-4378-95c1-1e5b6e71463f"
      },
      "execution_count": null,
      "outputs": [
        {
          "output_type": "execute_result",
          "data": {
            "text/plain": [
              "<torch._C.Generator at 0x796687fbd1b0>"
            ]
          },
          "metadata": {},
          "execution_count": 2
        }
      ]
    },
    {
      "cell_type": "code",
      "source": [
        "# Check for GPU\n",
        "device = torch.device(\"cuda\" if torch.cuda.is_available() else \"cpu\")\n",
        "print(f\"Using device : {device}\")"
      ],
      "metadata": {
        "colab": {
          "base_uri": "https://localhost:8080/"
        },
        "id": "pt35xkYOQ8d6",
        "outputId": "f8708f3b-c926-48c8-babd-332399ad921e"
      },
      "execution_count": null,
      "outputs": [
        {
          "output_type": "stream",
          "name": "stdout",
          "text": [
            "Using device : cuda\n"
          ]
        }
      ]
    },
    {
      "cell_type": "code",
      "source": [
        "df=pd.read_csv(\"https://raw.githubusercontent.com/sagaravatade/DATASETS/refs/heads/main/fmnist_small.csv\")\n",
        "df.head()"
      ],
      "metadata": {
        "id": "XZRmtwJuluQ9",
        "colab": {
          "base_uri": "https://localhost:8080/",
          "height": 255
        },
        "outputId": "5daf78b7-2a3a-4f80-d87b-22079b101ea8"
      },
      "execution_count": null,
      "outputs": [
        {
          "output_type": "execute_result",
          "data": {
            "text/plain": [
              "   label  pixel1  pixel2  pixel3  pixel4  pixel5  pixel6  pixel7  pixel8  \\\n",
              "0      9       0       0       0       0       0       0       0       0   \n",
              "1      7       0       0       0       0       0       0       0       0   \n",
              "2      0       0       0       0       0       0       1       0       0   \n",
              "3      8       0       0       0       0       0       0       0       0   \n",
              "4      8       0       0       0       0       0       0       0       0   \n",
              "\n",
              "   pixel9  ...  pixel775  pixel776  pixel777  pixel778  pixel779  pixel780  \\\n",
              "0       0  ...         0         7         0        50       205       196   \n",
              "1       0  ...         0         0         0         0         0         0   \n",
              "2       0  ...       142       142       142        21         0         3   \n",
              "3       0  ...         0         0         0         0         0         0   \n",
              "4       0  ...       213       203       174       151       188        10   \n",
              "\n",
              "   pixel781  pixel782  pixel783  pixel784  \n",
              "0       213       165         0         0  \n",
              "1         0         0         0         0  \n",
              "2         0         0         0         0  \n",
              "3         0         0         0         0  \n",
              "4         0         0         0         0  \n",
              "\n",
              "[5 rows x 785 columns]"
            ],
            "text/html": [
              "\n",
              "  <div id=\"df-42cf0d4f-e76d-4670-9298-1d3ff0e922d9\" class=\"colab-df-container\">\n",
              "    <div>\n",
              "<style scoped>\n",
              "    .dataframe tbody tr th:only-of-type {\n",
              "        vertical-align: middle;\n",
              "    }\n",
              "\n",
              "    .dataframe tbody tr th {\n",
              "        vertical-align: top;\n",
              "    }\n",
              "\n",
              "    .dataframe thead th {\n",
              "        text-align: right;\n",
              "    }\n",
              "</style>\n",
              "<table border=\"1\" class=\"dataframe\">\n",
              "  <thead>\n",
              "    <tr style=\"text-align: right;\">\n",
              "      <th></th>\n",
              "      <th>label</th>\n",
              "      <th>pixel1</th>\n",
              "      <th>pixel2</th>\n",
              "      <th>pixel3</th>\n",
              "      <th>pixel4</th>\n",
              "      <th>pixel5</th>\n",
              "      <th>pixel6</th>\n",
              "      <th>pixel7</th>\n",
              "      <th>pixel8</th>\n",
              "      <th>pixel9</th>\n",
              "      <th>...</th>\n",
              "      <th>pixel775</th>\n",
              "      <th>pixel776</th>\n",
              "      <th>pixel777</th>\n",
              "      <th>pixel778</th>\n",
              "      <th>pixel779</th>\n",
              "      <th>pixel780</th>\n",
              "      <th>pixel781</th>\n",
              "      <th>pixel782</th>\n",
              "      <th>pixel783</th>\n",
              "      <th>pixel784</th>\n",
              "    </tr>\n",
              "  </thead>\n",
              "  <tbody>\n",
              "    <tr>\n",
              "      <th>0</th>\n",
              "      <td>9</td>\n",
              "      <td>0</td>\n",
              "      <td>0</td>\n",
              "      <td>0</td>\n",
              "      <td>0</td>\n",
              "      <td>0</td>\n",
              "      <td>0</td>\n",
              "      <td>0</td>\n",
              "      <td>0</td>\n",
              "      <td>0</td>\n",
              "      <td>...</td>\n",
              "      <td>0</td>\n",
              "      <td>7</td>\n",
              "      <td>0</td>\n",
              "      <td>50</td>\n",
              "      <td>205</td>\n",
              "      <td>196</td>\n",
              "      <td>213</td>\n",
              "      <td>165</td>\n",
              "      <td>0</td>\n",
              "      <td>0</td>\n",
              "    </tr>\n",
              "    <tr>\n",
              "      <th>1</th>\n",
              "      <td>7</td>\n",
              "      <td>0</td>\n",
              "      <td>0</td>\n",
              "      <td>0</td>\n",
              "      <td>0</td>\n",
              "      <td>0</td>\n",
              "      <td>0</td>\n",
              "      <td>0</td>\n",
              "      <td>0</td>\n",
              "      <td>0</td>\n",
              "      <td>...</td>\n",
              "      <td>0</td>\n",
              "      <td>0</td>\n",
              "      <td>0</td>\n",
              "      <td>0</td>\n",
              "      <td>0</td>\n",
              "      <td>0</td>\n",
              "      <td>0</td>\n",
              "      <td>0</td>\n",
              "      <td>0</td>\n",
              "      <td>0</td>\n",
              "    </tr>\n",
              "    <tr>\n",
              "      <th>2</th>\n",
              "      <td>0</td>\n",
              "      <td>0</td>\n",
              "      <td>0</td>\n",
              "      <td>0</td>\n",
              "      <td>0</td>\n",
              "      <td>0</td>\n",
              "      <td>1</td>\n",
              "      <td>0</td>\n",
              "      <td>0</td>\n",
              "      <td>0</td>\n",
              "      <td>...</td>\n",
              "      <td>142</td>\n",
              "      <td>142</td>\n",
              "      <td>142</td>\n",
              "      <td>21</td>\n",
              "      <td>0</td>\n",
              "      <td>3</td>\n",
              "      <td>0</td>\n",
              "      <td>0</td>\n",
              "      <td>0</td>\n",
              "      <td>0</td>\n",
              "    </tr>\n",
              "    <tr>\n",
              "      <th>3</th>\n",
              "      <td>8</td>\n",
              "      <td>0</td>\n",
              "      <td>0</td>\n",
              "      <td>0</td>\n",
              "      <td>0</td>\n",
              "      <td>0</td>\n",
              "      <td>0</td>\n",
              "      <td>0</td>\n",
              "      <td>0</td>\n",
              "      <td>0</td>\n",
              "      <td>...</td>\n",
              "      <td>0</td>\n",
              "      <td>0</td>\n",
              "      <td>0</td>\n",
              "      <td>0</td>\n",
              "      <td>0</td>\n",
              "      <td>0</td>\n",
              "      <td>0</td>\n",
              "      <td>0</td>\n",
              "      <td>0</td>\n",
              "      <td>0</td>\n",
              "    </tr>\n",
              "    <tr>\n",
              "      <th>4</th>\n",
              "      <td>8</td>\n",
              "      <td>0</td>\n",
              "      <td>0</td>\n",
              "      <td>0</td>\n",
              "      <td>0</td>\n",
              "      <td>0</td>\n",
              "      <td>0</td>\n",
              "      <td>0</td>\n",
              "      <td>0</td>\n",
              "      <td>0</td>\n",
              "      <td>...</td>\n",
              "      <td>213</td>\n",
              "      <td>203</td>\n",
              "      <td>174</td>\n",
              "      <td>151</td>\n",
              "      <td>188</td>\n",
              "      <td>10</td>\n",
              "      <td>0</td>\n",
              "      <td>0</td>\n",
              "      <td>0</td>\n",
              "      <td>0</td>\n",
              "    </tr>\n",
              "  </tbody>\n",
              "</table>\n",
              "<p>5 rows × 785 columns</p>\n",
              "</div>\n",
              "    <div class=\"colab-df-buttons\">\n",
              "\n",
              "  <div class=\"colab-df-container\">\n",
              "    <button class=\"colab-df-convert\" onclick=\"convertToInteractive('df-42cf0d4f-e76d-4670-9298-1d3ff0e922d9')\"\n",
              "            title=\"Convert this dataframe to an interactive table.\"\n",
              "            style=\"display:none;\">\n",
              "\n",
              "  <svg xmlns=\"http://www.w3.org/2000/svg\" height=\"24px\" viewBox=\"0 -960 960 960\">\n",
              "    <path d=\"M120-120v-720h720v720H120Zm60-500h600v-160H180v160Zm220 220h160v-160H400v160Zm0 220h160v-160H400v160ZM180-400h160v-160H180v160Zm440 0h160v-160H620v160ZM180-180h160v-160H180v160Zm440 0h160v-160H620v160Z\"/>\n",
              "  </svg>\n",
              "    </button>\n",
              "\n",
              "  <style>\n",
              "    .colab-df-container {\n",
              "      display:flex;\n",
              "      gap: 12px;\n",
              "    }\n",
              "\n",
              "    .colab-df-convert {\n",
              "      background-color: #E8F0FE;\n",
              "      border: none;\n",
              "      border-radius: 50%;\n",
              "      cursor: pointer;\n",
              "      display: none;\n",
              "      fill: #1967D2;\n",
              "      height: 32px;\n",
              "      padding: 0 0 0 0;\n",
              "      width: 32px;\n",
              "    }\n",
              "\n",
              "    .colab-df-convert:hover {\n",
              "      background-color: #E2EBFA;\n",
              "      box-shadow: 0px 1px 2px rgba(60, 64, 67, 0.3), 0px 1px 3px 1px rgba(60, 64, 67, 0.15);\n",
              "      fill: #174EA6;\n",
              "    }\n",
              "\n",
              "    .colab-df-buttons div {\n",
              "      margin-bottom: 4px;\n",
              "    }\n",
              "\n",
              "    [theme=dark] .colab-df-convert {\n",
              "      background-color: #3B4455;\n",
              "      fill: #D2E3FC;\n",
              "    }\n",
              "\n",
              "    [theme=dark] .colab-df-convert:hover {\n",
              "      background-color: #434B5C;\n",
              "      box-shadow: 0px 1px 3px 1px rgba(0, 0, 0, 0.15);\n",
              "      filter: drop-shadow(0px 1px 2px rgba(0, 0, 0, 0.3));\n",
              "      fill: #FFFFFF;\n",
              "    }\n",
              "  </style>\n",
              "\n",
              "    <script>\n",
              "      const buttonEl =\n",
              "        document.querySelector('#df-42cf0d4f-e76d-4670-9298-1d3ff0e922d9 button.colab-df-convert');\n",
              "      buttonEl.style.display =\n",
              "        google.colab.kernel.accessAllowed ? 'block' : 'none';\n",
              "\n",
              "      async function convertToInteractive(key) {\n",
              "        const element = document.querySelector('#df-42cf0d4f-e76d-4670-9298-1d3ff0e922d9');\n",
              "        const dataTable =\n",
              "          await google.colab.kernel.invokeFunction('convertToInteractive',\n",
              "                                                    [key], {});\n",
              "        if (!dataTable) return;\n",
              "\n",
              "        const docLinkHtml = 'Like what you see? Visit the ' +\n",
              "          '<a target=\"_blank\" href=https://colab.research.google.com/notebooks/data_table.ipynb>data table notebook</a>'\n",
              "          + ' to learn more about interactive tables.';\n",
              "        element.innerHTML = '';\n",
              "        dataTable['output_type'] = 'display_data';\n",
              "        await google.colab.output.renderOutput(dataTable, element);\n",
              "        const docLink = document.createElement('div');\n",
              "        docLink.innerHTML = docLinkHtml;\n",
              "        element.appendChild(docLink);\n",
              "      }\n",
              "    </script>\n",
              "  </div>\n",
              "\n",
              "\n",
              "    <div id=\"df-a9849f78-1f82-475c-ae88-f61ad4372fe9\">\n",
              "      <button class=\"colab-df-quickchart\" onclick=\"quickchart('df-a9849f78-1f82-475c-ae88-f61ad4372fe9')\"\n",
              "                title=\"Suggest charts\"\n",
              "                style=\"display:none;\">\n",
              "\n",
              "<svg xmlns=\"http://www.w3.org/2000/svg\" height=\"24px\"viewBox=\"0 0 24 24\"\n",
              "     width=\"24px\">\n",
              "    <g>\n",
              "        <path d=\"M19 3H5c-1.1 0-2 .9-2 2v14c0 1.1.9 2 2 2h14c1.1 0 2-.9 2-2V5c0-1.1-.9-2-2-2zM9 17H7v-7h2v7zm4 0h-2V7h2v10zm4 0h-2v-4h2v4z\"/>\n",
              "    </g>\n",
              "</svg>\n",
              "      </button>\n",
              "\n",
              "<style>\n",
              "  .colab-df-quickchart {\n",
              "      --bg-color: #E8F0FE;\n",
              "      --fill-color: #1967D2;\n",
              "      --hover-bg-color: #E2EBFA;\n",
              "      --hover-fill-color: #174EA6;\n",
              "      --disabled-fill-color: #AAA;\n",
              "      --disabled-bg-color: #DDD;\n",
              "  }\n",
              "\n",
              "  [theme=dark] .colab-df-quickchart {\n",
              "      --bg-color: #3B4455;\n",
              "      --fill-color: #D2E3FC;\n",
              "      --hover-bg-color: #434B5C;\n",
              "      --hover-fill-color: #FFFFFF;\n",
              "      --disabled-bg-color: #3B4455;\n",
              "      --disabled-fill-color: #666;\n",
              "  }\n",
              "\n",
              "  .colab-df-quickchart {\n",
              "    background-color: var(--bg-color);\n",
              "    border: none;\n",
              "    border-radius: 50%;\n",
              "    cursor: pointer;\n",
              "    display: none;\n",
              "    fill: var(--fill-color);\n",
              "    height: 32px;\n",
              "    padding: 0;\n",
              "    width: 32px;\n",
              "  }\n",
              "\n",
              "  .colab-df-quickchart:hover {\n",
              "    background-color: var(--hover-bg-color);\n",
              "    box-shadow: 0 1px 2px rgba(60, 64, 67, 0.3), 0 1px 3px 1px rgba(60, 64, 67, 0.15);\n",
              "    fill: var(--button-hover-fill-color);\n",
              "  }\n",
              "\n",
              "  .colab-df-quickchart-complete:disabled,\n",
              "  .colab-df-quickchart-complete:disabled:hover {\n",
              "    background-color: var(--disabled-bg-color);\n",
              "    fill: var(--disabled-fill-color);\n",
              "    box-shadow: none;\n",
              "  }\n",
              "\n",
              "  .colab-df-spinner {\n",
              "    border: 2px solid var(--fill-color);\n",
              "    border-color: transparent;\n",
              "    border-bottom-color: var(--fill-color);\n",
              "    animation:\n",
              "      spin 1s steps(1) infinite;\n",
              "  }\n",
              "\n",
              "  @keyframes spin {\n",
              "    0% {\n",
              "      border-color: transparent;\n",
              "      border-bottom-color: var(--fill-color);\n",
              "      border-left-color: var(--fill-color);\n",
              "    }\n",
              "    20% {\n",
              "      border-color: transparent;\n",
              "      border-left-color: var(--fill-color);\n",
              "      border-top-color: var(--fill-color);\n",
              "    }\n",
              "    30% {\n",
              "      border-color: transparent;\n",
              "      border-left-color: var(--fill-color);\n",
              "      border-top-color: var(--fill-color);\n",
              "      border-right-color: var(--fill-color);\n",
              "    }\n",
              "    40% {\n",
              "      border-color: transparent;\n",
              "      border-right-color: var(--fill-color);\n",
              "      border-top-color: var(--fill-color);\n",
              "    }\n",
              "    60% {\n",
              "      border-color: transparent;\n",
              "      border-right-color: var(--fill-color);\n",
              "    }\n",
              "    80% {\n",
              "      border-color: transparent;\n",
              "      border-right-color: var(--fill-color);\n",
              "      border-bottom-color: var(--fill-color);\n",
              "    }\n",
              "    90% {\n",
              "      border-color: transparent;\n",
              "      border-bottom-color: var(--fill-color);\n",
              "    }\n",
              "  }\n",
              "</style>\n",
              "\n",
              "      <script>\n",
              "        async function quickchart(key) {\n",
              "          const quickchartButtonEl =\n",
              "            document.querySelector('#' + key + ' button');\n",
              "          quickchartButtonEl.disabled = true;  // To prevent multiple clicks.\n",
              "          quickchartButtonEl.classList.add('colab-df-spinner');\n",
              "          try {\n",
              "            const charts = await google.colab.kernel.invokeFunction(\n",
              "                'suggestCharts', [key], {});\n",
              "          } catch (error) {\n",
              "            console.error('Error during call to suggestCharts:', error);\n",
              "          }\n",
              "          quickchartButtonEl.classList.remove('colab-df-spinner');\n",
              "          quickchartButtonEl.classList.add('colab-df-quickchart-complete');\n",
              "        }\n",
              "        (() => {\n",
              "          let quickchartButtonEl =\n",
              "            document.querySelector('#df-a9849f78-1f82-475c-ae88-f61ad4372fe9 button');\n",
              "          quickchartButtonEl.style.display =\n",
              "            google.colab.kernel.accessAllowed ? 'block' : 'none';\n",
              "        })();\n",
              "      </script>\n",
              "    </div>\n",
              "\n",
              "    </div>\n",
              "  </div>\n"
            ],
            "application/vnd.google.colaboratory.intrinsic+json": {
              "type": "dataframe",
              "variable_name": "df"
            }
          },
          "metadata": {},
          "execution_count": 4
        }
      ]
    },
    {
      "cell_type": "code",
      "source": [
        "# Create a 4x4 grid of images\n",
        "fig, axes = plt.subplots(4, 4, figsize=(10, 10))\n",
        "fig,plt.suptitle(\"First 16 images\",fontsize=16)\n",
        "\n",
        "# plot the first 16 images from the dataset\n",
        "for i, ax in enumerate(axes.flat):\n",
        "  img=df.iloc[i,1:].values.reshape(28,28) # Reshape to 28X28\n",
        "  ax.imshow(img,cmap=\"gray\") # display in grayscale\n",
        "  ax.axis(\"off\") # remove axis for a cleaner look\n",
        "  ax.set_title(f\"Label: {df.iloc[i,0]}\") # set title with the label\n",
        "\n",
        "plt.tight_layout(rect=[0,0,1,0.96]) # adjust layout to fit the title\n",
        "plt.show()"
      ],
      "metadata": {
        "colab": {
          "base_uri": "https://localhost:8080/",
          "height": 1000
        },
        "id": "HCTvBanl1ss_",
        "outputId": "1c06a6ca-f280-47c5-e1ff-3a98768c7870"
      },
      "execution_count": null,
      "outputs": [
        {
          "output_type": "display_data",
          "data": {
            "text/plain": [
              "<Figure size 1000x1000 with 16 Axes>"
            ],
            "image/png": "[encoded data removed]"
          },
          "metadata": {}
        }
      ]
    },
    {
      "cell_type": "code",
      "source": [
        "# train test split\n",
        "X=df.iloc[:,1:].values\n",
        "y=df.iloc[:,0].values\n",
        "X_train,X_test,y_train,y_test=train_test_split(X,y,test_size=0.2,random_state=42)"
      ],
      "metadata": {
        "id": "yMZSlJ8O3YkS"
      },
      "execution_count": null,
      "outputs": []
    },
    {
      "cell_type": "code",
      "source": [
        "# Scaling the features\n",
        "X_train=X_train/255.0\n",
        "X_test=X_test/255.0"
      ],
      "metadata": {
        "id": "zMOs09tZ36Bi"
      },
      "execution_count": null,
      "outputs": []
    },
    {
      "cell_type": "code",
      "source": [
        "# Create CustomDataset Class\n",
        "\n",
        "class CustomDataset(Dataset):\n",
        "  def __init__(self,features,labels):\n",
        "    self.features=torch.tensor(features,dtype=torch.float32)\n",
        "    self.labels=torch.tensor(labels,dtype=torch.long)\n",
        "\n",
        "  def __len__(self):\n",
        "    return len(self.features)\n",
        "\n",
        "  def __getitem__(self,index):\n",
        "    return self.features[index],self.labels[index]"
      ],
      "metadata": {
        "id": "6Qb-Ltw339pd"
      },
      "execution_count": null,
      "outputs": []
    },
    {
      "cell_type": "code",
      "source": [
        "# Create train_dataset object\n",
        "train_dataset=CustomDataset(X_train,y_train)"
      ],
      "metadata": {
        "id": "tZt-vSjl5lel"
      },
      "execution_count": null,
      "outputs": []
    },
    {
      "cell_type": "code",
      "source": [
        "len(train_dataset)"
      ],
      "metadata": {
        "colab": {
          "base_uri": "https://localhost:8080/"
        },
        "id": "v1oHKAea5yty",
        "outputId": "38578853-8a02-40da-b341-37515f847fa0"
      },
      "execution_count": null,
      "outputs": [
        {
          "output_type": "execute_result",
          "data": {
            "text/plain": [
              "4800"
            ]
          },
          "metadata": {},
          "execution_count": 10
        }
      ]
    },
    {
      "cell_type": "code",
      "source": [
        "train_dataset[0]"
      ],
      "metadata": {
        "colab": {
          "base_uri": "https://localhost:8080/"
        },
        "id": "paZNXRJC51qT",
        "outputId": "b85553d2-21ce-4190-a9b4-0d5791135770"
      },
      "execution_count": null,
      "outputs": [
        {
          "output_type": "execute_result",
          "data": {
            "text/plain": [
              "(tensor([0.0000, 0.0000, 0.0000, 0.0000, 0.0000, 0.0000, 0.0000, 0.0000, 0.0000,\n",
              "         0.0000, 0.0000, 0.0000, 0.0000, 0.0000, 0.0000, 0.0000, 0.0000, 0.0000,\n",
              "         0.0000, 0.0000, 0.0000, 0.0000, 0.0000, 0.0000, 0.0000, 0.0000, 0.0000,\n",
              "         0.0000, 0.0000, 0.0000, 0.0000, 0.0000, 0.0000, 0.0000, 0.0000, 0.0000,\n",
              "         0.0000, 0.0000, 0.0000, 0.0000, 0.0000, 0.0000, 0.0000, 0.0000, 0.0000,\n",
              "         0.0000, 0.0000, 0.0000, 0.0000, 0.0000, 0.0000, 0.0000, 0.0000, 0.0000,\n",
              "         0.0000, 0.0000, 0.0000, 0.0000, 0.0000, 0.0000, 0.0000, 0.0000, 0.0000,\n",
              "         0.0000, 0.0000, 0.0000, 0.0000, 0.0000, 0.0000, 0.0000, 0.0000, 0.0000,\n",
              "         0.0000, 0.0000, 0.0000, 0.0000, 0.0000, 0.0000, 0.0000, 0.0000, 0.0000,\n",
              "         0.0000, 0.0000, 0.0000, 0.0000, 0.0000, 0.0000, 0.0000, 0.0000, 0.0000,\n",
              "         0.0000, 0.0000, 0.0000, 0.0000, 0.0000, 0.0000, 0.0000, 0.0000, 0.0000,\n",
              "         0.0000, 0.0000, 0.0000, 0.0000, 0.0000, 0.0000, 0.0000, 0.0000, 0.0000,\n",
              "         0.0000, 0.0000, 0.0000, 0.0000, 0.0000, 0.0000, 0.0000, 0.0000, 0.0000,\n",
              "         0.0000, 0.0000, 0.0000, 0.0000, 0.0000, 0.0000, 0.0000, 0.0000, 0.0000,\n",
              "         0.0000, 0.0000, 0.0000, 0.0000, 0.0000, 0.0000, 0.0000, 0.0000, 0.0000,\n",
              "         0.0000, 0.0000, 0.0000, 0.0000, 0.0000, 0.0000, 0.0000, 0.0000, 0.0000,\n",
              "         0.0000, 0.0000, 0.0000, 0.0000, 0.0000, 0.0000, 0.0000, 0.0000, 0.0000,\n",
              "         0.0000, 0.0000, 0.0000, 0.0000, 0.0000, 0.0000, 0.0000, 0.0000, 0.0000,\n",
              "         0.0000, 0.0000, 0.0000, 0.0000, 0.0000, 0.0000, 0.0000, 0.0000, 0.0000,\n",
              "         0.0000, 0.0000, 0.0000, 0.0000, 0.0000, 0.0000, 0.0000, 0.0000, 0.0000,\n",
              "         0.0000, 0.0000, 0.0000, 0.0000, 0.0000, 0.0000, 0.0000, 0.0000, 0.0000,\n",
              "         0.0000, 0.0000, 0.0000, 0.0000, 0.0000, 0.0000, 0.0000, 0.0000, 0.0000,\n",
              "         0.0000, 0.0000, 0.0000, 0.0000, 0.0000, 0.0000, 0.0000, 0.0000, 0.0000,\n",
              "         0.0000, 0.0000, 0.0000, 0.0000, 0.0000, 0.0000, 0.0000, 0.0000, 0.0000,\n",
              "         0.0000, 0.0000, 0.0000, 0.0000, 0.0000, 0.0000, 0.0000, 0.0000, 0.0000,\n",
              "         0.0000, 0.0000, 0.0000, 0.0000, 0.0000, 0.0000, 0.0000, 0.0000, 0.0000,\n",
              "         0.0000, 0.0000, 0.0000, 0.0000, 0.0000, 0.0000, 0.0000, 0.0000, 0.0000,\n",
              "         0.0000, 0.0000, 0.0000, 0.0000, 0.0000, 0.0000, 0.0000, 0.0000, 0.0000,\n",
              "         0.0000, 0.0000, 0.0000, 0.0000, 0.0000, 0.0000, 0.0000, 0.0000, 0.0000,\n",
              "         0.0000, 0.0000, 0.0000, 0.0000, 0.0000, 0.0627, 0.2196, 0.2039, 0.0784,\n",
              "         0.1569, 0.2196, 0.0000, 0.0000, 0.0314, 0.0000, 0.0000, 0.0000, 0.0000,\n",
              "         0.0000, 0.0000, 0.0000, 0.0000, 0.0000, 0.0000, 0.0000, 0.0000, 0.0000,\n",
              "         0.0157, 0.0000, 0.0000, 0.0000, 0.0157, 0.0627, 0.3333, 0.5216, 0.4118,\n",
              "         0.2667, 0.2667, 0.4745, 0.0000, 0.0000, 0.0157, 0.0157, 0.0157, 0.0000,\n",
              "         0.0000, 0.0000, 0.0000, 0.0000, 0.0000, 0.0000, 0.0000, 0.0000, 0.0000,\n",
              "         0.0000, 0.0000, 0.0000, 0.0471, 0.2039, 0.3137, 0.3647, 0.0314, 0.0627,\n",
              "         0.2196, 0.1098, 0.3490, 1.0000, 0.0000, 0.0000, 0.0000, 0.0000, 0.0000,\n",
              "         0.0000, 0.6824, 0.1098, 0.0000, 0.0157, 0.0000, 0.0000, 0.0000, 0.0000,\n",
              "         0.0000, 0.0000, 0.1255, 0.2667, 0.3137, 0.2510, 0.1098, 0.0627, 0.1569,\n",
              "         0.1098, 0.0471, 0.1098, 0.0000, 0.4275, 0.6824, 0.2353, 0.0314, 0.0000,\n",
              "         0.0157, 0.4275, 0.6824, 0.1098, 0.0000, 0.0000, 0.0000, 0.0000, 0.0000,\n",
              "         0.0000, 0.1882, 0.2667, 0.1882, 0.0627, 0.1098, 0.0941, 0.0314, 0.0471,\n",
              "         0.0000, 0.0000, 0.0000, 0.1569, 0.8078, 0.0941, 0.0000, 0.1255, 0.6667,\n",
              "         0.6824, 0.6157, 0.6824, 0.6824, 0.2039, 0.0157, 0.1569, 0.1882, 0.2039,\n",
              "         0.1725, 0.3804, 0.1255, 0.0000, 0.1098, 0.1255, 0.0627, 0.0157, 0.0157,\n",
              "         0.0000, 0.0314, 0.3647, 0.6157, 0.5843, 0.7608, 0.8549, 0.4745, 0.1882,\n",
              "         0.7765, 0.6667, 0.4745, 0.6314, 0.6314, 0.4118, 0.2980, 0.4118, 0.1255,\n",
              "         0.0000, 0.1412, 0.5686, 0.0000, 0.2667, 0.1255, 0.0000, 0.0471, 0.1412,\n",
              "         0.1725, 0.3333, 0.5216, 0.7765, 0.9176, 0.8392, 0.7137, 0.8078, 0.8549,\n",
              "         0.6824, 0.8863, 0.6824, 0.3961, 0.5529, 0.6824, 0.4588, 0.2510, 0.2510,\n",
              "         0.3804, 0.2980, 0.3804, 0.5529, 0.2510, 0.4431, 0.2353, 0.1569, 0.0157,\n",
              "         0.1412, 0.3804, 0.8392, 0.7137, 0.6980, 0.6157, 0.4588, 0.4431, 0.5686,\n",
              "         0.7294, 0.6471, 0.7765, 0.7765, 0.5373, 0.5843, 0.6667, 0.4588, 0.4588,\n",
              "         0.4431, 0.3333, 0.2667, 0.2824, 0.3137, 0.3490, 0.3804, 0.3333, 0.3961,\n",
              "         0.3333, 0.2980, 0.3137, 0.2980, 0.2824, 0.2824, 0.2510, 0.2039, 0.2196,\n",
              "         0.2510, 0.2667, 0.3490, 0.3647, 0.3333, 0.2980, 0.2980, 0.3647, 0.4118,\n",
              "         0.1098, 0.2667, 0.4588, 0.5529, 0.4431, 0.4275, 0.3804, 0.3647, 0.3137,\n",
              "         0.3961, 0.4745, 0.4431, 0.4275, 0.3647, 0.3804, 0.3961, 0.4275, 0.4118,\n",
              "         0.3804, 0.3961, 0.3804, 0.3647, 0.3490, 0.3804, 0.4118, 0.3961, 0.3804,\n",
              "         0.4118, 0.0000, 0.0000, 0.0000, 0.1255, 0.3137, 0.2980, 0.3804, 0.3961,\n",
              "         0.4431, 0.4275, 0.3804, 0.3137, 0.3647, 0.4118, 0.3647, 0.3490, 0.3333,\n",
              "         0.3490, 0.3647, 0.3804, 0.3804, 0.3804, 0.3961, 0.4275, 0.4588, 0.3961,\n",
              "         0.4118, 0.3804, 0.0000, 0.0000, 0.0000, 0.0000, 0.0000, 0.0000, 0.0000,\n",
              "         0.0000, 0.0000, 0.0000, 0.0000, 0.0000, 0.0000, 0.0000, 0.0000, 0.0000,\n",
              "         0.0000, 0.0000, 0.0000, 0.0000, 0.0000, 0.0000, 0.0000, 0.0000, 0.0000,\n",
              "         0.0000, 0.0000, 0.0000, 0.0000, 0.0000, 0.0000, 0.0000, 0.0000, 0.0000,\n",
              "         0.0000, 0.0000, 0.0000, 0.0000, 0.0000, 0.0000, 0.0000, 0.0000, 0.0000,\n",
              "         0.0000, 0.0000, 0.0000, 0.0000, 0.0000, 0.0000, 0.0000, 0.0000, 0.0000,\n",
              "         0.0000, 0.0000, 0.0000, 0.0000, 0.0000, 0.0000, 0.0000, 0.0000, 0.0000,\n",
              "         0.0000, 0.0000, 0.0000, 0.0000, 0.0000, 0.0000, 0.0000, 0.0000, 0.0000,\n",
              "         0.0000, 0.0000, 0.0000, 0.0000, 0.0000, 0.0000, 0.0000, 0.0000, 0.0000,\n",
              "         0.0000, 0.0000, 0.0000, 0.0000, 0.0000, 0.0000, 0.0000, 0.0000, 0.0000,\n",
              "         0.0000, 0.0000, 0.0000, 0.0000, 0.0000, 0.0000, 0.0000, 0.0000, 0.0000,\n",
              "         0.0000, 0.0000, 0.0000, 0.0000, 0.0000, 0.0000, 0.0000, 0.0000, 0.0000,\n",
              "         0.0000, 0.0000, 0.0000, 0.0000, 0.0000, 0.0000, 0.0000, 0.0000, 0.0000,\n",
              "         0.0000, 0.0000, 0.0000, 0.0000, 0.0000, 0.0000, 0.0000, 0.0000, 0.0000,\n",
              "         0.0000, 0.0000, 0.0000, 0.0000, 0.0000, 0.0000, 0.0000, 0.0000, 0.0000,\n",
              "         0.0000, 0.0000, 0.0000, 0.0000, 0.0000, 0.0000, 0.0000, 0.0000, 0.0000,\n",
              "         0.0000, 0.0000, 0.0000, 0.0000, 0.0000, 0.0000, 0.0000, 0.0000, 0.0000,\n",
              "         0.0000, 0.0000, 0.0000, 0.0000, 0.0000, 0.0000, 0.0000, 0.0000, 0.0000,\n",
              "         0.0000, 0.0000, 0.0000, 0.0000, 0.0000, 0.0000, 0.0000, 0.0000, 0.0000,\n",
              "         0.0000, 0.0000, 0.0000, 0.0000, 0.0000, 0.0000, 0.0000, 0.0000, 0.0000,\n",
              "         0.0000, 0.0000, 0.0000, 0.0000, 0.0000, 0.0000, 0.0000, 0.0000, 0.0000,\n",
              "         0.0000, 0.0000, 0.0000, 0.0000, 0.0000, 0.0000, 0.0000, 0.0000, 0.0000,\n",
              "         0.0000, 0.0000, 0.0000, 0.0000, 0.0000, 0.0000, 0.0000, 0.0000, 0.0000,\n",
              "         0.0000, 0.0000, 0.0000, 0.0000, 0.0000, 0.0000, 0.0000, 0.0000, 0.0000,\n",
              "         0.0000, 0.0000, 0.0000, 0.0000, 0.0000, 0.0000, 0.0000, 0.0000, 0.0000,\n",
              "         0.0000]),\n",
              " tensor(7))"
            ]
          },
          "metadata": {},
          "execution_count": 11
        }
      ]
    },
    {
      "cell_type": "code",
      "source": [
        "# Create test_dataset object\n",
        "test_dataset=CustomDataset(X_test,y_test)"
      ],
      "metadata": {
        "id": "KRS8y4o-53nd"
      },
      "execution_count": null,
      "outputs": []
    },
    {
      "cell_type": "code",
      "source": [
        "#Create train and test loader\n",
        "train_loader=DataLoader(train_dataset,batch_size=32,shuffle=True)\n",
        "test_loader=DataLoader(test_dataset,batch_size=32,shuffle=False)"
      ],
      "metadata": {
        "id": "9a6xfL9R6IcE"
      },
      "execution_count": null,
      "outputs": []
    },
    {
      "cell_type": "code",
      "source": [
        "# Define NN class\n",
        "\n",
        "class MyNN(nn.Module):\n",
        "  def __init__(self,num_features):\n",
        "\n",
        "    super().__init__()\n",
        "    self.model = nn.Sequential(\n",
        "        nn.Linear(num_features,128),\n",
        "        nn.BatchNorm1d(128),\n",
        "        nn.ReLU(),\n",
        "        nn.Dropout(p=0.3),\n",
        "        nn.Linear(128,64),\n",
        "        nn.BatchNorm1d(64),\n",
        "        nn.ReLU(),\n",
        "        nn.Dropout(p=0.3),\n",
        "        nn.Linear(64,10)\n",
        "    )\n",
        "\n",
        "  def forward(self,x):\n",
        "      return self.model(x)"
      ],
      "metadata": {
        "id": "H083ax-86dHq"
      },
      "execution_count": null,
      "outputs": []
    },
    {
      "cell_type": "code",
      "source": [
        "# Set learning rate and epoch\n",
        "epoch=100\n",
        "learning_rate=0.1"
      ],
      "metadata": {
        "id": "c3MXy2zA_0Q-"
      },
      "execution_count": null,
      "outputs": []
    },
    {
      "cell_type": "code",
      "source": [
        "# Instatiate the model\n",
        "model=MyNN(X_train.shape[1])\n",
        "model = model.to(device)\n",
        "\n",
        "# loss function\n",
        "criterion=nn.CrossEntropyLoss()\n",
        "\n",
        "# Optimizer\n",
        "optimizer=optim.SGD(model.parameters(),lr=learning_rate,weight_decay=1e-4)"
      ],
      "metadata": {
        "id": "wJV7nqiNAEpc"
      },
      "execution_count": null,
      "outputs": []
    },
    {
      "cell_type": "code",
      "source": [
        "# Training loop\n",
        "\n",
        "for epoch in range(epoch):\n",
        "\n",
        "  total_epoch_loss = 0\n",
        "\n",
        "  for batch_features,batch_labels in train_loader:\n",
        "\n",
        "    #move data to gpu\n",
        "    batch_features=batch_features.to(device)\n",
        "    batch_labels=batch_labels.to(device)\n",
        "\n",
        "    # Forward pass\n",
        "    outputs=model(batch_features)\n",
        "\n",
        "    # Calculate loss\n",
        "    loss=criterion(outputs,batch_labels)\n",
        "\n",
        "    # Backward pass and optimization\n",
        "    optimizer.zero_grad()\n",
        "    loss.backward()\n",
        "\n",
        "    # update Parameters(gradients)\n",
        "    optimizer.step()\n",
        "\n",
        "    # Update total epoch loss\n",
        "    total_epoch_loss+=loss.item()\n",
        "\n",
        "  print(f\"Epoch {epoch+1}/{epoch}, Loss: {total_epoch_loss/len(train_loader)}\")"
      ],
      "metadata": {
        "colab": {
          "base_uri": "https://localhost:8080/"
        },
        "id": "XUl4cl6UAusA",
        "outputId": "1756cc7e-e9d7-48e5-d68d-89e2d07a1a8f"
      },
      "execution_count": null,
      "outputs": [
        {
          "output_type": "stream",
          "name": "stdout",
          "text": [
            "Epoch 1/0, Loss: 0.9732997973759969\n",
            "Epoch 2/1, Loss: 0.6825804388523102\n",
            "Epoch 3/2, Loss: 0.6201567999521891\n",
            "Epoch 4/3, Loss: 0.5779790512720744\n",
            "Epoch 5/4, Loss: 0.530347839097182\n",
            "Epoch 6/5, Loss: 0.5128572115302086\n",
            "Epoch 7/6, Loss: 0.4880304405093193\n",
            "Epoch 8/7, Loss: 0.47508808652559914\n",
            "Epoch 9/8, Loss: 0.43279404322306314\n",
            "Epoch 10/9, Loss: 0.4288519724210103\n",
            "Epoch 11/10, Loss: 0.40688627074162165\n",
            "Epoch 12/11, Loss: 0.39910156567891436\n",
            "Epoch 13/12, Loss: 0.4055436498920123\n",
            "Epoch 14/13, Loss: 0.3750319378574689\n",
            "Epoch 15/14, Loss: 0.36728809371590615\n",
            "Epoch 16/15, Loss: 0.3442665846645832\n",
            "Epoch 17/16, Loss: 0.34004225184520087\n",
            "Epoch 18/17, Loss: 0.3458041932185491\n",
            "Epoch 19/18, Loss: 0.32335501169164976\n",
            "Epoch 20/19, Loss: 0.31397701064745587\n",
            "Epoch 21/20, Loss: 0.32776431312163673\n",
            "Epoch 22/21, Loss: 0.3183260894815127\n",
            "Epoch 23/22, Loss: 0.2904988715052605\n",
            "Epoch 24/23, Loss: 0.2964910240719716\n",
            "Epoch 25/24, Loss: 0.2934210211038589\n",
            "Epoch 26/25, Loss: 0.2704896395901839\n",
            "Epoch 27/26, Loss: 0.27796317453185715\n",
            "Epoch 28/27, Loss: 0.28549425254265465\n",
            "Epoch 29/28, Loss: 0.24636124163866044\n",
            "Epoch 30/29, Loss: 0.26008666793505353\n",
            "Epoch 31/30, Loss: 0.2634556571394205\n",
            "Epoch 32/31, Loss: 0.24933474843700726\n",
            "Epoch 33/32, Loss: 0.2514500194787979\n",
            "Epoch 34/33, Loss: 0.2517096586028735\n",
            "Epoch 35/34, Loss: 0.23212098866701125\n",
            "Epoch 36/35, Loss: 0.22944432574013868\n",
            "Epoch 37/36, Loss: 0.23443601451814175\n",
            "Epoch 38/37, Loss: 0.2316968259960413\n",
            "Epoch 39/38, Loss: 0.22736295680205026\n",
            "Epoch 40/39, Loss: 0.21484532923748095\n",
            "Epoch 41/40, Loss: 0.2013769178589185\n",
            "Epoch 42/41, Loss: 0.2004166632766525\n",
            "Epoch 43/42, Loss: 0.2007508691896995\n",
            "Epoch 44/43, Loss: 0.19713825789590678\n",
            "Epoch 45/44, Loss: 0.2051278734828035\n",
            "Epoch 46/45, Loss: 0.1978473830471436\n",
            "Epoch 47/46, Loss: 0.18847587779785197\n",
            "Epoch 48/47, Loss: 0.17634708831707638\n",
            "Epoch 49/48, Loss: 0.17902317409714064\n",
            "Epoch 50/49, Loss: 0.18771034394701322\n",
            "Epoch 51/50, Loss: 0.17640978241960206\n",
            "Epoch 52/51, Loss: 0.18364912496258815\n",
            "Epoch 53/52, Loss: 0.1722973325351874\n",
            "Epoch 54/53, Loss: 0.18103922403107087\n",
            "Epoch 55/54, Loss: 0.1662294221048554\n",
            "Epoch 56/55, Loss: 0.163070358534654\n",
            "Epoch 57/56, Loss: 0.16414086929212013\n",
            "Epoch 58/57, Loss: 0.16202279102057218\n",
            "Epoch 59/58, Loss: 0.1789484595010678\n",
            "Epoch 60/59, Loss: 0.17202112887054682\n",
            "Epoch 61/60, Loss: 0.15561092631270487\n",
            "Epoch 62/61, Loss: 0.15343890827149154\n",
            "Epoch 63/62, Loss: 0.15754836425185204\n",
            "Epoch 64/63, Loss: 0.15681521378457547\n",
            "Epoch 65/64, Loss: 0.14751980997622013\n",
            "Epoch 66/65, Loss: 0.15125372812151908\n",
            "Epoch 67/66, Loss: 0.16825858655696113\n",
            "Epoch 68/67, Loss: 0.15908453175177176\n",
            "Epoch 69/68, Loss: 0.17077973388135434\n",
            "Epoch 70/69, Loss: 0.13806950402756532\n",
            "Epoch 71/70, Loss: 0.1389810303101937\n",
            "Epoch 72/71, Loss: 0.1325267646337549\n",
            "Epoch 73/72, Loss: 0.1377380529853205\n",
            "Epoch 74/73, Loss: 0.15119705710560083\n",
            "Epoch 75/74, Loss: 0.13518518184622128\n",
            "Epoch 76/75, Loss: 0.1375762996574243\n",
            "Epoch 77/76, Loss: 0.14351971714446943\n",
            "Epoch 78/77, Loss: 0.14275435464456676\n",
            "Epoch 79/78, Loss: 0.14256714298700293\n",
            "Epoch 80/79, Loss: 0.14058151067545016\n",
            "Epoch 81/80, Loss: 0.1183606990147382\n",
            "Epoch 82/81, Loss: 0.1422521023824811\n",
            "Epoch 83/82, Loss: 0.13311818504706024\n",
            "Epoch 84/83, Loss: 0.12945290269330145\n",
            "Epoch 85/84, Loss: 0.12624911752839882\n",
            "Epoch 86/85, Loss: 0.13156802465518316\n",
            "Epoch 87/86, Loss: 0.11537113035408159\n",
            "Epoch 88/87, Loss: 0.12143778505424659\n",
            "Epoch 89/88, Loss: 0.13128475623826186\n",
            "Epoch 90/89, Loss: 0.11784239223847787\n",
            "Epoch 91/90, Loss: 0.1301029966895779\n",
            "Epoch 92/91, Loss: 0.12399809994424382\n",
            "Epoch 93/92, Loss: 0.1181820695164303\n",
            "Epoch 94/93, Loss: 0.12925816089535752\n",
            "Epoch 95/94, Loss: 0.10130829107016324\n",
            "Epoch 96/95, Loss: 0.12205299701541662\n",
            "Epoch 97/96, Loss: 0.11594867937887708\n",
            "Epoch 98/97, Loss: 0.10438553410271803\n",
            "Epoch 99/98, Loss: 0.10413076686672866\n",
            "Epoch 100/99, Loss: 0.10331219661980867\n"
          ]
        }
      ]
    },
    {
      "cell_type": "code",
      "source": [
        "# set model to eval mode\n",
        "model.eval()"
      ],
      "metadata": {
        "colab": {
          "base_uri": "https://localhost:8080/"
        },
        "id": "JCt3GWSbCgRp",
        "outputId": "387415bc-5294-4085-f614-fd4f066014e1"
      },
      "execution_count": null,
      "outputs": [
        {
          "output_type": "execute_result",
          "data": {
            "text/plain": [
              "MyNN(\n",
              "  (model): Sequential(\n",
              "    (0): Linear(in_features=784, out_features=128, bias=True)\n",
              "    (1): BatchNorm1d(128, eps=1e-05, momentum=0.1, affine=True, track_running_stats=True)\n",
              "    (2): ReLU()\n",
              "    (3): Dropout(p=0.3, inplace=False)\n",
              "    (4): Linear(in_features=128, out_features=64, bias=True)\n",
              "    (5): BatchNorm1d(64, eps=1e-05, momentum=0.1, affine=True, track_running_stats=True)\n",
              "    (6): ReLU()\n",
              "    (7): Dropout(p=0.3, inplace=False)\n",
              "    (8): Linear(in_features=64, out_features=10, bias=True)\n",
              "  )\n",
              ")"
            ]
          },
          "metadata": {},
          "execution_count": 18
        }
      ]
    },
    {
      "cell_type": "code",
      "source": [
        " # evaluation code\n",
        "\n",
        "total=0\n",
        "\n",
        "correct=0\n",
        "\n",
        "with torch.no_grad():\n",
        "\n",
        "  for batch_features,batch_labels in test_loader:\n",
        "\n",
        "    #move data to gpu\n",
        "    batch_features=batch_features.to(device)\n",
        "    batch_labels=batch_labels.to(device)\n",
        "\n",
        "    # Forward pass\n",
        "    outputs=model(batch_features)\n",
        "\n",
        "    _, predicted = torch.max(outputs,1)\n",
        "\n",
        "    total=total + batch_labels.shape[0]\n",
        "\n",
        "    correct = correct + (predicted == batch_labels).sum().item()\n",
        "\n",
        "print(f\"Accuracy: {100*correct/total}\")"
      ],
      "metadata": {
        "colab": {
          "base_uri": "https://localhost:8080/"
        },
        "id": "3MR-HOkJDAO3",
        "outputId": "6f5c9c8f-4156-4d1d-aa00-56470d7386d4"
      },
      "execution_count": null,
      "outputs": [
        {
          "output_type": "stream",
          "name": "stdout",
          "text": [
            "Accuracy: 83.66666666666667\n"
          ]
        }
      ]
    },
    {
      "cell_type": "code",
      "source": [
        " # evaluation code\n",
        "\n",
        "total=0\n",
        "\n",
        "correct=0\n",
        "\n",
        "with torch.no_grad():\n",
        "\n",
        "  for batch_features,batch_labels in train_loader:\n",
        "\n",
        "    #move data to gpu\n",
        "    batch_features=batch_features.to(device)\n",
        "    batch_labels=batch_labels.to(device)\n",
        "\n",
        "    # Forward pass\n",
        "    outputs=model(batch_features)\n",
        "\n",
        "    _, predicted = torch.max(outputs,1)\n",
        "\n",
        "    total=total + batch_labels.shape[0]\n",
        "\n",
        "    correct = correct + (predicted == batch_labels).sum().item()\n",
        "\n",
        "print(f\"Accuracy: {100*correct/total}\")"
      ],
      "metadata": {
        "colab": {
          "base_uri": "https://localhost:8080/"
        },
        "id": "1liQIRCHNyfG",
        "outputId": "a404ade7-4630-48bb-ca2d-ef66d7619d93"
      },
      "execution_count": null,
      "outputs": [
        {
          "output_type": "stream",
          "name": "stdout",
          "text": [
            "Accuracy: 99.10416666666667\n"
          ]
        }
      ]
    }
  ]
}